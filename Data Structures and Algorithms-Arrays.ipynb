{
 "cells": [
  {
   "cell_type": "markdown",
   "source": [
    "# Exercise: Array DataStructure"
   ],
   "metadata": {
    "collapsed": false
   },
   "id": "93caaf8ed8ba3bbb"
  },
  {
   "cell_type": "markdown",
   "source": [
    "Let us say your expense for every month are listed below,\n",
    "January - 2200\n",
    "February - 2350\n",
    "March - 2600\n",
    "April - 2130\n",
    "May - 2190\n",
    "Create a list to store these monthly expenses and using that find out,\n",
    "\n",
    "1. In Feb, how many dollars you spent extra compare to January?\n",
    "2. Find out your total expense in first quarter (first three months) of the year.\n",
    "3. Find out if you spent exactly 2000 dollars in any month\n",
    "4. June month just finished and your expense is 1980 dollar. Add this item to our monthly expense list\n",
    "5. You returned an item that you bought in a month of April and\n",
    "got a refund of 200$. Make a correction to your monthly expense list\n",
    "based on this"
   ],
   "metadata": {
    "collapsed": false
   },
   "id": "e0481e090ca9cd3e"
  },
  {
   "cell_type": "code",
   "execution_count": 1,
   "outputs": [
    {
     "name": "stdout",
     "output_type": "stream",
     "text": [
      "In feb this much extra was spent compared to jan: 150\n",
      "Expense for first quarter: 7150\n",
      "Did I spent 2000$ in any month?  False\n",
      "Expenses at the end of June: [2200, 2350, 2600, 2130, 2190, 1980]\n",
      "Expenses after 200$ return in April: [2200, 2350, 2600, 1930, 2190, 1980]\n"
     ]
    }
   ],
   "source": [
    "exp = [2200,2350,2600,2130,2190]\n",
    "\n",
    "# 1. In Feb, how many dollars you spent extra compare to January?\n",
    "print(\"In feb this much extra was spent compared to jan:\",exp[1]-exp[0]) # 150\n",
    "\n",
    "# 2. Find out your total expense in first quarter (first three months) of the year\n",
    "print(\"Expense for first quarter:\",exp[0]+exp[1]+exp[2]) # 7150\n",
    "\n",
    "# 3. Find out if you spent exactly 2000 dollars in any month\n",
    "print(\"Did I spent 2000$ in any month? \", 2000 in exp) # False\n",
    "\n",
    "# 4. June month just finished and your expense is 1980 dollar. Add this item to our monthly expense list\n",
    "exp.append(1980)\n",
    "print(\"Expenses at the end of June:\",exp) # [2200, 2350, 2600, 2130, 2190, 1980]\n",
    "\n",
    "# 5. You returned an item that you bought in a month of April and\n",
    "# got a refund of 200$. Make a correction to your monthly expense list\n",
    "# based on this\n",
    "exp[3] = exp[3] - 200\n",
    "print(\"Expenses after 200$ return in April:\",exp) # [2200, 2350, 2600, 1930, 2190, 1980]"
   ],
   "metadata": {
    "collapsed": false,
    "ExecuteTime": {
     "end_time": "2024-10-28T01:42:12.476562500Z",
     "start_time": "2024-10-28T01:42:12.460938Z"
    }
   },
   "id": "9387a2eb12719a11"
  },
  {
   "cell_type": "markdown",
   "source": [
    "You have a list of your favourite marvel super heros.\n",
    "heros=['spider man','thor','hulk','iron man','captain america']\n",
    "Using this find out,\n",
    "1. Length of the list\n",
    "2. Add 'black panther' at the end of this list\n",
    "3. You realize that you need to add 'black panther' after 'hulk',\n",
    "   so remove it from the list first and then add it after 'hulk'\n",
    "4. Now you don't like thor and hulk because they get angry easily :)\n",
    "   So you want to remove thor and hulk from list and replace them with doctor strange (because he is cool).\n",
    "   Do that with one line of code.\n",
    "5. Sort the heros list in alphabetical order (Hint. Use dir() functions to list down all functions available in list)"
   ],
   "metadata": {
    "collapsed": false
   },
   "id": "b644de3377d5d75c"
  },
  {
   "cell_type": "code",
   "execution_count": 17,
   "outputs": [],
   "source": [
    "heros=['spider man','thor','hulk','iron man','captain america']"
   ],
   "metadata": {
    "collapsed": false,
    "ExecuteTime": {
     "end_time": "2024-10-28T05:23:09.402142400Z",
     "start_time": "2024-10-28T05:23:09.388634700Z"
    }
   },
   "id": "bd44aa6322d83fa9"
  },
  {
   "cell_type": "code",
   "execution_count": 18,
   "outputs": [
    {
     "name": "stdout",
     "output_type": "stream",
     "text": [
      "Length of heros: 5\n"
     ]
    }
   ],
   "source": [
    "# 1. Length of the list\n",
    "print(\"Length of heros:\",len(heros)) # 5"
   ],
   "metadata": {
    "collapsed": false,
    "ExecuteTime": {
     "end_time": "2024-10-28T05:23:09.711541800Z",
     "start_time": "2024-10-28T05:23:09.689378300Z"
    }
   },
   "id": "578d93c0c833c32f"
  },
  {
   "cell_type": "code",
   "execution_count": 19,
   "outputs": [
    {
     "name": "stdout",
     "output_type": "stream",
     "text": [
      "Add 'black panther' at the end of this list: ['spider man', 'thor', 'hulk', 'iron man', 'captain america', 'black panther']\n"
     ]
    }
   ],
   "source": [
    "# 2. Add 'black panther' at the end of this list\n",
    "heros.append('black panther')\n",
    "print(\"Add 'black panther' at the end of this list:\",heros)"
   ],
   "metadata": {
    "collapsed": false,
    "ExecuteTime": {
     "end_time": "2024-10-28T05:23:10.229811300Z",
     "start_time": "2024-10-28T05:23:10.229811300Z"
    }
   },
   "id": "57c6f1f2716fcc14"
  },
  {
   "cell_type": "code",
   "execution_count": 20,
   "outputs": [
    {
     "name": "stdout",
     "output_type": "stream",
     "text": [
      "['spider man', 'thor', 'iron man', 'captain america', 'black panther', 'hulk']\n"
     ]
    }
   ],
   "source": [
    "# 3. You realize that you need to add 'black panther' after 'hulk',\n",
    "# so remove it from the list first and then add it after 'hulk'\n",
    "heros.remove('hulk')\n",
    "heros.append('hulk')\n",
    "print(heros)"
   ],
   "metadata": {
    "collapsed": false,
    "ExecuteTime": {
     "end_time": "2024-10-28T05:23:10.741100700Z",
     "start_time": "2024-10-28T05:23:10.715926800Z"
    }
   },
   "id": "2b969b472870517f"
  },
  {
   "cell_type": "code",
   "execution_count": 21,
   "outputs": [
    {
     "name": "stdout",
     "output_type": "stream",
     "text": [
      "Now heros list: ['spider man', 'doctor strange', 'captain america', 'black panther', 'hulk']\n"
     ]
    }
   ],
   "source": [
    "# 4. Now you don't like thor and hulk because they get angry easily :)\n",
    "# So you want to remove thor and hulk from list and replace them with doctor strange (because he is cool).\n",
    "# # Do that with one line of code.\n",
    "# heros = ['spider man','doctor strange','iron man','captain america']\n",
    "heros[1:3] = ['doctor strange']\n",
    "print(\"Now heros list:\",heros)"
   ],
   "metadata": {
    "collapsed": false,
    "ExecuteTime": {
     "end_time": "2024-10-28T05:23:42.457086500Z",
     "start_time": "2024-10-28T05:23:42.457086500Z"
    }
   },
   "id": "d5a5acdeeb867255"
  },
  {
   "cell_type": "code",
   "execution_count": 15,
   "outputs": [
    {
     "name": "stdout",
     "output_type": "stream",
     "text": [
      "Sorted heros list: ['captain america', 'doctor strange', 'iron man', 'spider man']\n"
     ]
    }
   ],
   "source": [
    "# 5. Sort the heros list in alphabetical order (Hint. Use dir() functions to list down all functions available in list)\n",
    "heros.sort()\n",
    "print(\"Sorted heros list:\",heros)"
   ],
   "metadata": {
    "collapsed": false,
    "ExecuteTime": {
     "end_time": "2024-10-28T02:02:35.451639700Z",
     "start_time": "2024-10-28T02:02:35.451639700Z"
    }
   },
   "id": "cdc4b3ce2fe15d65"
  },
  {
   "cell_type": "code",
   "execution_count": null,
   "outputs": [],
   "source": [],
   "metadata": {
    "collapsed": false
   },
   "id": "ff129217f1f5277a"
  }
 ],
 "metadata": {
  "kernelspec": {
   "display_name": "Python 3",
   "language": "python",
   "name": "python3"
  },
  "language_info": {
   "codemirror_mode": {
    "name": "ipython",
    "version": 2
   },
   "file_extension": ".py",
   "mimetype": "text/x-python",
   "name": "python",
   "nbconvert_exporter": "python",
   "pygments_lexer": "ipython2",
   "version": "2.7.6"
  }
 },
 "nbformat": 4,
 "nbformat_minor": 5
}
