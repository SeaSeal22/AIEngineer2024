{
 "cells": [
  {
   "cell_type": "markdown",
   "source": [
    "# Exercise: Array DataStructure"
   ],
   "metadata": {
    "collapsed": false
   },
   "id": "93caaf8ed8ba3bbb"
  },
  {
   "cell_type": "markdown",
   "source": [
    "Let us say your expense for every month are listed below,\n",
    "January - 2200\n",
    "February - 2350\n",
    "March - 2600\n",
    "April - 2130\n",
    "May - 2190\n",
    "Create a list to store these monthly expenses and using that find out,\n",
    "\n",
    "1. In Feb, how many dollars you spent extra compare to January?\n",
    "2. Find out your total expense in first quarter (first three months) of the year.\n",
    "3. Find out if you spent exactly 2000 dollars in any month\n",
    "4. June month just finished and your expense is 1980 dollar. Add this item to our monthly expense list\n",
    "5. You returned an item that you bought in a month of April and\n",
    "got a refund of 200$. Make a correction to your monthly expense list\n",
    "based on this"
   ],
   "metadata": {
    "collapsed": false
   },
   "id": "e0481e090ca9cd3e"
  },
  {
   "cell_type": "code",
   "execution_count": 5,
   "outputs": [],
   "source": [
    "# ME = [{'January':2200},{'February':2350},{'March':2600},{'April':2130},{'May':2190}]\n",
    "ME = [2200,2350,2600,2130,2190]"
   ],
   "metadata": {
    "collapsed": false,
    "ExecuteTime": {
     "end_time": "2024-10-25T08:31:47.467814900Z",
     "start_time": "2024-10-25T08:31:47.451855500Z"
    }
   },
   "id": "d9220b1f01b910b3"
  },
  {
   "cell_type": "code",
   "execution_count": 9,
   "outputs": [],
   "source": [
    "Q1 = ME[1]-ME[0]"
   ],
   "metadata": {
    "collapsed": false,
    "ExecuteTime": {
     "end_time": "2024-10-25T08:32:32.858873200Z",
     "start_time": "2024-10-25T08:32:32.843217800Z"
    }
   },
   "id": "f0c8ead3bcd42560"
  },
  {
   "cell_type": "code",
   "execution_count": 10,
   "outputs": [],
   "source": [
    "Q2 = sum(ME[1:3])"
   ],
   "metadata": {
    "collapsed": false,
    "ExecuteTime": {
     "end_time": "2024-10-25T09:25:03.026729200Z",
     "start_time": "2024-10-25T09:25:02.990307800Z"
    }
   },
   "id": "b9f35dda16ecc155"
  },
  {
   "cell_type": "code",
   "execution_count": null,
   "outputs": [],
   "source": [
    "for i in "
   ],
   "metadata": {
    "collapsed": false
   },
   "id": "67cdf182b5be096c"
  }
 ],
 "metadata": {
  "kernelspec": {
   "display_name": "Python 3",
   "language": "python",
   "name": "python3"
  },
  "language_info": {
   "codemirror_mode": {
    "name": "ipython",
    "version": 2
   },
   "file_extension": ".py",
   "mimetype": "text/x-python",
   "name": "python",
   "nbconvert_exporter": "python",
   "pygments_lexer": "ipython2",
   "version": "2.7.6"
  }
 },
 "nbformat": 4,
 "nbformat_minor": 5
}
